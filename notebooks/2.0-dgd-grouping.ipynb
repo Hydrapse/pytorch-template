{
 "cells": [
  {
   "cell_type": "code",
   "execution_count": 37,
   "outputs": [],
   "source": [
    "num_feature = 5000\n",
    "num_groups = 17\n",
    "ls = list(range(0, num_feature, int(num_feature / num_groups)))\n",
    "ls[-1] = num_feature\n",
    "\n",
    "group_size = int(num_feature / num_groups)\n",
    "x_ptr = list(range(0, num_feature, group_size))\n",
    "x_ptr[-1] = num_feature\n",
    "num_features = [group_size] * num_groups\n",
    "num_features[-1] += num_feature % num_groups\n",
    "print(num_features, x_ptr, sep='\\n')"
   ],
   "metadata": {
    "collapsed": false,
    "pycharm": {
     "name": "#%%\n"
    }
   }
  },
  {
   "cell_type": "code",
   "execution_count": 6,
   "outputs": [
    {
     "data": {
      "text/plain": "tensor([[49., 48., 47., 46., 45., 47., 48., 41., 44., 43., 44., 48., 47., 31.,\n         43.],\n        [47., 43., 40.,  0.,  0., 26., 46., 18., 21.,  0.,  6., 37., 43.,  0.,\n         16.]])"
     },
     "execution_count": 6,
     "metadata": {},
     "output_type": "execute_result"
    }
   ],
   "source": [
    "import torch\n",
    "from torch.nn import Linear\n",
    "t1 = torch.Tensor([49, 48, 47, 46, 45, 47, 48, 41, 44, 43, 44, 48, 47, 31, 43])\n",
    "t2 = torch.Tensor([47, 43, 40,  0,  0, 26, 46, 18, 21,  0,  6, 37, 43,  0, 16])\n",
    "x = torch.stack([t1, t2])\n",
    "x"
   ],
   "metadata": {
    "collapsed": false,
    "pycharm": {
     "name": "#%%\n"
    }
   }
  },
  {
   "cell_type": "code",
   "execution_count": 12,
   "outputs": [
    {
     "name": "stdout",
     "output_type": "stream",
     "text": [
      "torch.Size([2, 2, 1]) torch.Size([2, 1, 15])\n"
     ]
    },
    {
     "data": {
      "text/plain": "tensor([[[49., 48., 47., 46., 45., 47., 48., 41., 44., 43., 44., 48., 47., 31.,\n          43.]],\n\n        [[47., 43., 40.,  0.,  0., 26., 46., 18., 21.,  0.,  6., 37., 43.,  0.,\n          16.]]])"
     },
     "execution_count": 12,
     "metadata": {},
     "output_type": "execute_result"
    }
   ],
   "source": [
    "lin = Linear(15, 2, bias=False)\n",
    "s = lin(x).softmax(dim=-1)\n",
    "print(s.unsqueeze(-1).shape, x.unsqueeze(-2).shape)\n",
    "x.unsqueeze(-2)"
   ],
   "metadata": {
    "collapsed": false,
    "pycharm": {
     "name": "#%%\n"
    }
   }
  },
  {
   "cell_type": "markdown",
   "source": [
    "## Avg 2-hop Nodes"
   ],
   "metadata": {
    "collapsed": false
   }
  },
  {
   "cell_type": "code",
   "execution_count": 7,
   "outputs": [
    {
     "data": {
      "text/plain": "Data(x=[183, 1703], edge_index=[2, 508], y=[183], train_mask=[183], val_mask=[183], test_mask=[183])"
     },
     "execution_count": 7,
     "metadata": {},
     "output_type": "execute_result"
    }
   ],
   "source": [
    "import sys\n",
    "sys.path.append('/home/xhh/notebooks/GNN/pytorch-template')\n",
    "from src.datamodules.components.data import get_data\n",
    "from torch_geometric.datasets import Planetoid\n",
    "\n",
    "data = get_data('texas', '/mnt/nfs-ssd/raw-datasets/pyg-format')[0]\n",
    "data"
   ],
   "metadata": {
    "collapsed": false,
    "pycharm": {
     "name": "#%%\n"
    }
   }
  },
  {
   "cell_type": "code",
   "execution_count": 8,
   "outputs": [
    {
     "data": {
      "text/plain": "7.284153005464481"
     },
     "execution_count": 8,
     "metadata": {},
     "output_type": "execute_result"
    }
   ],
   "source": [
    "edge_index = data.edge_index\n",
    "num = 0\n",
    "for i in range(data.num_nodes):\n",
    "    nodes = edge_index[1, edge_index[0] == i]\n",
    "    for n in nodes:\n",
    "        num += len(edge_index[1, edge_index[0] == n])\n",
    "num / data.num_nodes"
   ],
   "metadata": {
    "collapsed": false,
    "pycharm": {
     "name": "#%%\n"
    }
   }
  },
  {
   "cell_type": "markdown",
   "source": [],
   "metadata": {
    "collapsed": false
   }
  },
  {
   "cell_type": "markdown",
   "source": [],
   "metadata": {
    "collapsed": false
   }
  }
 ],
 "metadata": {
  "kernelspec": {
   "name": "conda-env-pytorch-gpu-py",
   "language": "python",
   "display_name": "Python [conda env:pytorch-gpu]"
  },
  "language_info": {
   "codemirror_mode": {
    "name": "ipython",
    "version": 2
   },
   "file_extension": ".py",
   "mimetype": "text/x-python",
   "name": "python",
   "nbconvert_exporter": "python",
   "pygments_lexer": "ipython2",
   "version": "2.7.6"
  }
 },
 "nbformat": 4,
 "nbformat_minor": 0
}