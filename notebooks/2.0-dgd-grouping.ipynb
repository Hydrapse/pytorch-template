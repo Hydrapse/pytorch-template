{
 "cells": [
  {
   "cell_type": "code",
   "execution_count": 37,
   "outputs": [],
   "source": [
    "num_feature = 5000\n",
    "num_groups = 17\n",
    "ls = list(range(0, num_feature, int(num_feature / num_groups)))\n",
    "ls[-1] = num_feature"
   ],
   "metadata": {
    "collapsed": false,
    "pycharm": {
     "name": "#%%\n"
    }
   }
  },
  {
   "cell_type": "code",
   "execution_count": 31,
   "outputs": [
    {
     "data": {
      "text/plain": "Parameter containing:\ntensor([[0.0000e+00],\n        [1.4486e-39],\n        [1.5102e-36],\n        ...,\n        [1.4486e-39],\n        [6.0395e-36],\n        [3.5733e-43]], requires_grad=True)"
     },
     "execution_count": 31,
     "metadata": {},
     "output_type": "execute_result"
    }
   ],
   "source": [
    "import torch\n",
    "from torch.nn.parameter import Parameter\n",
    "from torch import nn\n",
    "\n",
    "w_ego_root = [Parameter(torch.Tensor(num_feature)), Parameter(torch.Tensor(num_feature, 1))]\n",
    "w_ego_root[1]"
   ],
   "metadata": {
    "collapsed": false,
    "pycharm": {
     "name": "#%%\n"
    }
   }
  },
  {
   "cell_type": "code",
   "execution_count": 41,
   "outputs": [
    {
     "name": "stdout",
     "output_type": "stream",
     "text": [
      "[294, 294, 294, 294, 294, 294, 294, 294, 294, 294, 294, 294, 294, 294, 294, 294, 296]\n",
      "[0, 294, 588, 882, 1176, 1470, 1764, 2058, 2352, 2646, 2940, 3234, 3528, 3822, 4116, 4410, 4704, 5000]\n"
     ]
    }
   ],
   "source": [
    "group_size = int(num_feature / num_groups)\n",
    "x_ptr = list(range(0, num_feature, group_size))\n",
    "x_ptr[-1] = num_feature\n",
    "num_features = [group_size] * num_groups\n",
    "num_features[-1] += num_feature % num_groups\n",
    "print(num_features, x_ptr, sep='\\n')"
   ],
   "metadata": {
    "collapsed": false,
    "pycharm": {
     "name": "#%%\n"
    }
   }
  },
  {
   "cell_type": "code",
   "execution_count": 3,
   "outputs": [
    {
     "ename": "NameError",
     "evalue": "name 'torch' is not defined",
     "output_type": "error",
     "traceback": [
      "\u001B[0;31m---------------------------------------------------------------------------\u001B[0m",
      "\u001B[0;31mNameError\u001B[0m                                 Traceback (most recent call last)",
      "\u001B[0;32m<ipython-input-3-5f5360ed66a6>\u001B[0m in \u001B[0;36m<module>\u001B[0;34m\u001B[0m\n\u001B[0;32m----> 1\u001B[0;31m \u001B[0mt1\u001B[0m \u001B[0;34m=\u001B[0m \u001B[0mtorch\u001B[0m\u001B[0;34m.\u001B[0m\u001B[0mTensor\u001B[0m\u001B[0;34m(\u001B[0m\u001B[0;34m[\u001B[0m\u001B[0;36m49\u001B[0m\u001B[0;34m,\u001B[0m \u001B[0;36m48\u001B[0m\u001B[0;34m,\u001B[0m \u001B[0;36m47\u001B[0m\u001B[0;34m,\u001B[0m \u001B[0;36m46\u001B[0m\u001B[0;34m,\u001B[0m \u001B[0;36m45\u001B[0m\u001B[0;34m,\u001B[0m \u001B[0;36m47\u001B[0m\u001B[0;34m,\u001B[0m \u001B[0;36m48\u001B[0m\u001B[0;34m,\u001B[0m \u001B[0;36m41\u001B[0m\u001B[0;34m,\u001B[0m \u001B[0;36m44\u001B[0m\u001B[0;34m,\u001B[0m \u001B[0;36m43\u001B[0m\u001B[0;34m,\u001B[0m \u001B[0;36m44\u001B[0m\u001B[0;34m,\u001B[0m \u001B[0;36m48\u001B[0m\u001B[0;34m,\u001B[0m \u001B[0;36m47\u001B[0m\u001B[0;34m,\u001B[0m \u001B[0;36m31\u001B[0m\u001B[0;34m,\u001B[0m \u001B[0;36m43\u001B[0m\u001B[0;34m]\u001B[0m\u001B[0;34m)\u001B[0m\u001B[0;34m\u001B[0m\u001B[0;34m\u001B[0m\u001B[0m\n\u001B[0m\u001B[1;32m      2\u001B[0m \u001B[0mt2\u001B[0m \u001B[0;34m=\u001B[0m \u001B[0mtorch\u001B[0m\u001B[0;34m.\u001B[0m\u001B[0mTensor\u001B[0m\u001B[0;34m(\u001B[0m\u001B[0;34m[\u001B[0m\u001B[0;36m47\u001B[0m\u001B[0;34m,\u001B[0m \u001B[0;36m43\u001B[0m\u001B[0;34m,\u001B[0m \u001B[0;36m40\u001B[0m\u001B[0;34m,\u001B[0m  \u001B[0;36m0\u001B[0m\u001B[0;34m,\u001B[0m  \u001B[0;36m0\u001B[0m\u001B[0;34m,\u001B[0m \u001B[0;36m26\u001B[0m\u001B[0;34m,\u001B[0m \u001B[0;36m46\u001B[0m\u001B[0;34m,\u001B[0m \u001B[0;36m18\u001B[0m\u001B[0;34m,\u001B[0m \u001B[0;36m21\u001B[0m\u001B[0;34m,\u001B[0m  \u001B[0;36m0\u001B[0m\u001B[0;34m,\u001B[0m  \u001B[0;36m6\u001B[0m\u001B[0;34m,\u001B[0m \u001B[0;36m37\u001B[0m\u001B[0;34m,\u001B[0m \u001B[0;36m43\u001B[0m\u001B[0;34m,\u001B[0m  \u001B[0;36m0\u001B[0m\u001B[0;34m,\u001B[0m \u001B[0;36m16\u001B[0m\u001B[0;34m]\u001B[0m\u001B[0;34m)\u001B[0m\u001B[0;34m\u001B[0m\u001B[0;34m\u001B[0m\u001B[0m\n\u001B[1;32m      3\u001B[0m \u001B[0mlen\u001B[0m\u001B[0;34m(\u001B[0m\u001B[0mt1\u001B[0m\u001B[0;34m[\u001B[0m\u001B[0mtorch\u001B[0m\u001B[0;34m.\u001B[0m\u001B[0mzeros_like\u001B[0m\u001B[0;34m(\u001B[0m\u001B[0mt1\u001B[0m\u001B[0;34m,\u001B[0m \u001B[0mdtype\u001B[0m\u001B[0;34m=\u001B[0m\u001B[0mbool\u001B[0m\u001B[0;34m)\u001B[0m\u001B[0;34m]\u001B[0m\u001B[0;34m)\u001B[0m\u001B[0;34m\u001B[0m\u001B[0;34m\u001B[0m\u001B[0m\n\u001B[1;32m      4\u001B[0m \u001B[0;31m# a =\u001B[0m\u001B[0;34m\u001B[0m\u001B[0;34m\u001B[0m\u001B[0;34m\u001B[0m\u001B[0m\n\u001B[1;32m      5\u001B[0m \u001B[0mtorch\u001B[0m\u001B[0;34m.\u001B[0m\u001B[0mtensor\u001B[0m\u001B[0;34m(\u001B[0m\u001B[0;34m[\u001B[0m\u001B[0;34m]\u001B[0m\u001B[0;34m)\u001B[0m\u001B[0;34m.\u001B[0m\u001B[0mto\u001B[0m\u001B[0;34m(\u001B[0m\u001B[0mint\u001B[0m\u001B[0;34m)\u001B[0m\u001B[0;34m\u001B[0m\u001B[0;34m\u001B[0m\u001B[0m\n",
      "\u001B[0;31mNameError\u001B[0m: name 'torch' is not defined"
     ]
    }
   ],
   "source": [
    "t1 = torch.Tensor([49, 48, 47, 46, 45, 47, 48, 41, 44, 43, 44, 48, 47, 31, 43])\n",
    "t2 = torch.Tensor([47, 43, 40,  0,  0, 26, 46, 18, 21,  0,  6, 37, 43,  0, 16])\n",
    "len(t1[torch.zeros_like(t1, dtype=bool)])\n",
    "# a =\n",
    "torch.tensor([]).to(int)"
   ],
   "metadata": {
    "collapsed": false,
    "pycharm": {
     "name": "#%%\n"
    }
   }
  },
  {
   "cell_type": "code",
   "execution_count": 15,
   "outputs": [
    {
     "data": {
      "text/plain": "tensor([-1.0000, -0.3333,  0.3333,  1.0000])"
     },
     "execution_count": 15,
     "metadata": {},
     "output_type": "execute_result"
    }
   ],
   "source": [
    "import torch\n",
    "torch.linspace(-1, 1, steps=4)"
   ],
   "metadata": {
    "collapsed": false,
    "pycharm": {
     "name": "#%%\n"
    }
   }
  },
  {
   "cell_type": "code",
   "execution_count": 38,
   "outputs": [],
   "source": [
    "from torch_geometric.datasets import Planetoid\n",
    "\n",
    "dataset = Planetoid('/mnt/nfs-ssd/raw-datasets/pyg-format/Planetoid', 'pubmed', 'full')\n",
    "data = dataset[0]"
   ],
   "metadata": {
    "collapsed": false,
    "pycharm": {
     "name": "#%%\n"
    }
   }
  },
  {
   "cell_type": "code",
   "execution_count": 40,
   "outputs": [
    {
     "data": {
      "text/plain": "75.43399097225745"
     },
     "execution_count": 40,
     "metadata": {},
     "output_type": "execute_result"
    }
   ],
   "source": [
    "edge_index = data.edge_index\n",
    "num = 0\n",
    "for i in range(data.num_nodes):\n",
    "    nodes = edge_index[1, edge_index[0] == i]\n",
    "    for n in nodes:\n",
    "        num += len(edge_index[1, edge_index[0] == n])\n",
    "num / data.num_nodes"
   ],
   "metadata": {
    "collapsed": false,
    "pycharm": {
     "name": "#%%\n"
    }
   }
  },
  {
   "cell_type": "markdown",
   "source": [],
   "metadata": {
    "collapsed": false
   }
  },
  {
   "cell_type": "markdown",
   "source": [],
   "metadata": {
    "collapsed": false
   }
  }
 ],
 "metadata": {
  "kernelspec": {
   "name": "conda-env-pytorch-gpu-py",
   "language": "python",
   "display_name": "Python [conda env:pytorch-gpu]"
  },
  "language_info": {
   "codemirror_mode": {
    "name": "ipython",
    "version": 2
   },
   "file_extension": ".py",
   "mimetype": "text/x-python",
   "name": "python",
   "nbconvert_exporter": "python",
   "pygments_lexer": "ipython2",
   "version": "2.7.6"
  }
 },
 "nbformat": 4,
 "nbformat_minor": 0
}