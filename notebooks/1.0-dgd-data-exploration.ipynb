{
 "cells": [
  {
   "cell_type": "code",
   "execution_count": 1,
   "metadata": {},
   "outputs": [],
   "source": [
    "from typing import Callable, List, NamedTuple, Optional, Tuple, Union\n",
    "\n",
    "import torch\n",
    "from torch import Tensor\n",
    "from torch_sparse import SparseTensor\n",
    "\n",
    "class EdgeIndex(NamedTuple):\n",
    "    edge_index: Tensor\n",
    "    e_id: Optional[Tensor]\n",
    "    size: Tuple[int, int]\n",
    "\n",
    "    def to(self, *args, **kwargs):\n",
    "        edge_index = self.edge_index.to(*args, **kwargs)\n",
    "        e_id = self.e_id.to(*args, **kwargs) if self.e_id is not None else None\n",
    "        return EdgeIndex(edge_index, e_id, self.size)\n",
    "\n",
    "\n",
    "class Adj(NamedTuple):\n",
    "    adj_t: SparseTensor\n",
    "    e_id: Optional[Tensor]\n",
    "    size: Tuple[int, int]\n",
    "\n",
    "    def to(self, *args, **kwargs):\n",
    "        adj_t = self.adj_t.to(*args, **kwargs)\n",
    "        e_id = self.e_id.to(*args, **kwargs) if self.e_id is not None else None\n",
    "        return Adj(adj_t, e_id, self.size)"
   ]
  },
  {
   "cell_type": "code",
   "execution_count": 30,
   "metadata": {},
   "outputs": [],
   "source": [
    "from torch_geometric.datasets import Flickr\n",
    "\n",
    "dataset = Flickr(\"/mnt/nfs-ssd/raw-datasets/pyg-format/Flickr\")\n",
    "data = dataset[0]\n",
    "data"
   ]
  },
  {
   "cell_type": "code",
   "execution_count": 13,
   "outputs": [
    {
     "data": {
      "text/plain": "44625"
     },
     "execution_count": 13,
     "metadata": {},
     "output_type": "execute_result"
    }
   ],
   "source": [
    "node_idx = data.train_mask\n",
    "node_idx = node_idx.nonzero(as_tuple=False).view(-1)\n",
    "node_idx.size(0)"
   ],
   "metadata": {
    "collapsed": false,
    "pycharm": {
     "name": "#%%\n"
    }
   }
  },
  {
   "cell_type": "code",
   "execution_count": 27,
   "outputs": [
    {
     "name": "stdout",
     "output_type": "stream",
     "text": [
      "tensor([13687, 37207])\n"
     ]
    }
   ],
   "source": [
    "from torch.utils.data import DataLoader\n",
    "\n",
    "loader = DataLoader(node_idx, 2, True)\n",
    "\n",
    "batch_nodes = next(iter(loader))\n",
    "print(batch_nodes)"
   ],
   "metadata": {
    "collapsed": false,
    "pycharm": {
     "name": "#%%\n"
    }
   }
  },
  {
   "cell_type": "code",
   "execution_count": 87,
   "outputs": [
    {
     "name": "stdout",
     "output_type": "stream",
     "text": [
      "SparseTensor(row=tensor([0, 0, 0, 1, 1, 1]),\n",
      "             col=tensor([2, 3, 4, 5, 6, 7]),\n",
      "             val=tensor([328131, 109541, 489350, 473863, 166128, 102761]),\n",
      "             size=(2, 8), nnz=6, density=37.50%)\n",
      "tensor([13687, 37207, 14920,  2314, 30343, 28682,  4458,  2062])\n",
      "SparseTensor(row=tensor([0, 0, 0, 1, 1, 1, 2, 2, 2, 3, 3, 3, 4, 4, 4, 5, 5, 5, 6, 6, 6, 7, 7, 7]),\n",
      "             col=tensor([ 2,  3,  4,  5,  6,  7,  8,  9, 10, 11, 12, 13, 14, 15, 16,  1, 17, 18,\n",
      "                           19, 20, 21, 22, 23, 24]),\n",
      "             val=tensor([328131, 109541, 489350, 473863, 166128, 102761, 196699, 311928,  47906,\n",
      "                           455109, 270704, 421367, 542562, 277492, 183038, 548857, 551357, 340557,\n",
      "                           187529, 585395, 212426, 800920, 426154, 324422]),\n",
      "             size=(8, 25), nnz=24, density=12.00%)\n",
      "tensor([13687, 37207, 14920,  2314, 30343, 28682,  4458,  2062,  5856, 13577,\n",
      "          611, 26765, 10478, 23268, 36477, 10965,  5208, 37498, 15926,  5420,\n",
      "        41619,  6820, 72330, 23746, 14603])\n",
      "SparseTensor(row=tensor([ 0,  0,  0,  1,  1,  1,  2,  2,  2,  3,  3,  3,  4,  4,  4,  5,  5,  5,\n",
      "                            6,  6,  6,  7,  7,  7,  8,  8,  8,  9,  9,  9, 10, 10, 10, 11, 11, 11,\n",
      "                           12, 12, 12, 13, 13, 13, 14, 14, 14, 15, 15, 15, 16, 16, 16, 17, 17, 17,\n",
      "                           18, 18, 18, 19, 19, 19, 20, 20, 20, 21, 21, 21, 22, 22, 22, 23, 23, 23,\n",
      "                           24, 24, 24]),\n",
      "             col=tensor([ 2,  3,  4,  5,  6,  7,  8,  9, 10, 11, 12, 13, 14, 15, 16,  1, 17, 18,\n",
      "                           19, 20, 21, 22, 23, 24, 25, 26, 27, 28, 29, 30, 30, 31, 32, 33, 34, 35,\n",
      "                           36, 37, 38, 38, 39, 40, 41, 42, 43, 44, 45, 46,  8, 46, 47, 48, 49, 50,\n",
      "                           51, 52, 53, 54, 55, 56,  6, 57, 58, 59, 60, 61,  7, 62, 63, 64, 65, 66,\n",
      "                           67, 68, 69]),\n",
      "             val=tensor([328131, 109541, 489350, 473863, 166128, 102761, 196699, 311928,  47906,\n",
      "                           455109, 270704, 421367, 542562, 277492, 183038, 548857, 551357, 340557,\n",
      "                           187529, 585395, 212426, 800920, 426154, 324422, 547558, 216697, 140902,\n",
      "                           225726, 531746, 299729, 299708, 547339, 292327, 610441, 383040, 312559,\n",
      "                           109510, 395270, 518033, 518039, 248216, 283439, 311279, 368280, 353077,\n",
      "                            47946,  73442, 353223, 196674, 353212, 514037, 733496, 164333, 209119,\n",
      "                           776970, 393950, 617738,  82380, 133992,  44687, 166144, 216156, 374717,\n",
      "                           475300, 119130, 718252, 102927, 228486, 516535, 703362, 239078, 846216,\n",
      "                           751961,  57082, 324419]),\n",
      "             size=(25, 70), nnz=75, density=4.29%)\n",
      "tensor([13687, 37207, 14920,  2314, 30343, 28682,  4458,  2062,  5856, 13577,\n",
      "          611, 26765, 10478, 23268, 36477, 10965,  5208, 37498, 15926,  5420,\n",
      "        41619,  6820, 72330, 23746, 14603, 37044,  7094,  3384,  7604, 35181,\n",
      "        12658, 37019, 12102, 44848, 19621, 13622,  2313, 20732, 33578,  8960,\n",
      "        11410, 13528, 18315, 16938,   612,  1199, 16949, 33109, 61931,  4409,\n",
      "         6605, 68548, 20595, 45779,  1449,  3123,   568,  7055, 18895, 28822,\n",
      "         2564, 59645,  7803, 33406, 57473,  8396, 79768, 64726,   875, 14602])\n"
     ]
    }
   ],
   "source": [
    "batch_size: int = len(batch_nodes)\n",
    "\n",
    "row, col = data.edge_index.cpu()\n",
    "self_adj_t = SparseTensor(\n",
    "    row=row, col=col, value=torch.arange(col.size(0)),\n",
    "    sparse_sizes=(data.num_nodes, data.num_nodes)).t()\n",
    "\n",
    "adjs = []\n",
    "n_id = batch_nodes\n",
    "for size in [3, 3, 3]:\n",
    "    adj_t, n_id = self_adj_t.sample_adj(n_id, size, replace=False)\n",
    "    print(adj_t)\n",
    "    print(n_id)\n",
    "    e_id = adj_t.storage.value()\n",
    "    size = adj_t.sparse_sizes()[::-1]\n",
    "\n",
    "    row, col, _ = adj_t.coo()\n",
    "    edge_index = torch.stack([col, row], dim=0)\n",
    "    adjs.append(EdgeIndex(edge_index, e_id, size))\n",
    "\n",
    "adjs = adjs[0] if len(adjs) == 1 else adjs[::-1]\n",
    "out = (batch_size, n_id, adjs)"
   ],
   "metadata": {
    "collapsed": false,
    "pycharm": {
     "name": "#%%\n"
    }
   }
  },
  {
   "cell_type": "code",
   "execution_count": 118,
   "outputs": [
    {
     "name": "stdout",
     "output_type": "stream",
     "text": [
      "tensor([[ 2,  3,  4,  5,  6,  7,  8,  9, 10, 11, 12, 13, 14, 15, 16,  1, 17, 18,\n",
      "         19, 20, 21, 22, 23, 24, 25, 26, 27, 28, 29, 30, 30, 31, 32, 33, 34, 35,\n",
      "         36, 37, 38, 38, 39, 40, 41, 42, 43, 44, 45, 46,  8, 46, 47, 48, 49, 50,\n",
      "         51, 52, 53, 54, 55, 56,  6, 57, 58, 59, 60, 61,  7, 62, 63, 64, 65, 66,\n",
      "         67, 68, 69],\n",
      "        [ 0,  0,  0,  1,  1,  1,  2,  2,  2,  3,  3,  3,  4,  4,  4,  5,  5,  5,\n",
      "          6,  6,  6,  7,  7,  7,  8,  8,  8,  9,  9,  9, 10, 10, 10, 11, 11, 11,\n",
      "         12, 12, 12, 13, 13, 13, 14, 14, 14, 15, 15, 15, 16, 16, 16, 17, 17, 17,\n",
      "         18, 18, 18, 19, 19, 19, 20, 20, 20, 21, 21, 21, 22, 22, 22, 23, 23, 23,\n",
      "         24, 24, 24]])\n"
     ]
    },
    {
     "data": {
      "text/plain": "True"
     },
     "execution_count": 118,
     "metadata": {},
     "output_type": "execute_result"
    }
   ],
   "source": [
    "edge_3 = out[2][0].edge_index\n",
    "edge_1 = out[2][1].edge_index\n",
    "# torch.equal(edge_1, edge_3[:, edge_1.size(1)])\n",
    "print(edge_3)\n",
    "torch.equal(edge_1, edge_3[:, :edge_1.size(1)])"
   ],
   "metadata": {
    "collapsed": false,
    "pycharm": {
     "name": "#%%\n"
    }
   }
  },
  {
   "cell_type": "code",
   "execution_count": 138,
   "outputs": [
    {
     "data": {
      "text/plain": "Data(x=[822, 500], edge_index=[2, 1737], y=[822], train_mask=[822], val_mask=[822], test_mask=[822], batch_size=1)"
     },
     "execution_count": 138,
     "metadata": {},
     "output_type": "execute_result"
    }
   ],
   "source": [
    "from torch_geometric.loader.utils import (\n",
    "    filter_data,\n",
    "    to_csc\n",
    ")\n",
    "batch_nodes = torch.tensor([13687])\n",
    "\n",
    "colptr, row, perm = to_csc(data, torch.device('cpu'))\n",
    "\n",
    "sample_fn = torch.ops.torch_sparse.neighbor_sample\n",
    "node, row, col, edge = sample_fn(\n",
    "    colptr,\n",
    "    row,\n",
    "    batch_nodes,\n",
    "    [-1, -1],\n",
    "    False,  # replace\n",
    "    True,  # directed\n",
    ")\n",
    "batch_data = filter_data(data, node, row, col, edge, perm)\n",
    "batch_data.batch_size = batch_nodes.numel()\n",
    "batch_data"
   ],
   "metadata": {
    "collapsed": false,
    "pycharm": {
     "name": "#%%\n"
    }
   }
  },
  {
   "cell_type": "markdown",
   "source": [
    "---"
   ],
   "metadata": {
    "collapsed": false
   }
  },
  {
   "cell_type": "code",
   "execution_count": 5,
   "outputs": [
    {
     "ename": "RuntimeError",
     "evalue": "cannot sample n_sample <= 0 samples",
     "output_type": "error",
     "traceback": [
      "\u001B[0;31m---------------------------------------------------------------------------\u001B[0m",
      "\u001B[0;31mRuntimeError\u001B[0m                              Traceback (most recent call last)",
      "\u001B[0;32m<ipython-input-5-e48779b582f6>\u001B[0m in \u001B[0;36m<module>\u001B[0;34m\u001B[0m\n\u001B[1;32m      1\u001B[0m \u001B[0;32mimport\u001B[0m \u001B[0mtorch\u001B[0m\u001B[0;34m\u001B[0m\u001B[0;34m\u001B[0m\u001B[0m\n\u001B[0;32m----> 2\u001B[0;31m \u001B[0mtorch\u001B[0m\u001B[0;34m.\u001B[0m\u001B[0mmultinomial\u001B[0m\u001B[0;34m(\u001B[0m\u001B[0mtorch\u001B[0m\u001B[0;34m.\u001B[0m\u001B[0mtensor\u001B[0m\u001B[0;34m(\u001B[0m\u001B[0;34m[\u001B[0m\u001B[0;34m]\u001B[0m\u001B[0;34m)\u001B[0m\u001B[0;34m,\u001B[0m \u001B[0;36m0\u001B[0m\u001B[0;34m)\u001B[0m\u001B[0;34m\u001B[0m\u001B[0;34m\u001B[0m\u001B[0m\n\u001B[0m",
      "\u001B[0;31mRuntimeError\u001B[0m: cannot sample n_sample <= 0 samples"
     ]
    }
   ],
   "source": [
    "import torch\n",
    "torch.multinomial(torch.tensor([]), 0)"
   ],
   "metadata": {
    "collapsed": false,
    "pycharm": {
     "name": "#%%\n"
    }
   }
  },
  {
   "cell_type": "code",
   "execution_count": 6,
   "outputs": [
    {
     "data": {
      "text/plain": "tensor(0)"
     },
     "execution_count": 6,
     "metadata": {},
     "output_type": "execute_result"
    }
   ],
   "source": [
    "torch.clamp(torch.tensor(2), 1, 0)"
   ],
   "metadata": {
    "collapsed": false,
    "pycharm": {
     "name": "#%%\n"
    }
   }
  },
  {
   "cell_type": "code",
   "execution_count": null,
   "outputs": [],
   "source": [],
   "metadata": {
    "collapsed": false,
    "pycharm": {
     "name": "#%%\n"
    }
   }
  }
 ],
 "metadata": {
  "kernelspec": {
   "display_name": "Python [conda env:pytorch-gpu]",
   "language": "python",
   "name": "conda-env-pytorch-gpu-py"
  },
  "language_info": {
   "codemirror_mode": {
    "name": "ipython",
    "version": 3
   },
   "file_extension": ".py",
   "mimetype": "text/x-python",
   "name": "python",
   "nbconvert_exporter": "python",
   "pygments_lexer": "ipython3",
   "version": "3.8.5"
  }
 },
 "nbformat": 4,
 "nbformat_minor": 4
}