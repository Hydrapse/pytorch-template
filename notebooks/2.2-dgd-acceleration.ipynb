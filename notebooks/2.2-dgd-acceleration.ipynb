{
 "cells": [
  {
   "cell_type": "code",
   "execution_count": 7,
   "metadata": {
    "collapsed": true
   },
   "outputs": [
    {
     "data": {
      "text/plain": "Data(x=[19717, 500], edge_index=[2, 88648], y=[19717], train_mask=[19717], val_mask=[19717], test_mask=[19717])"
     },
     "execution_count": 7,
     "metadata": {},
     "output_type": "execute_result"
    }
   ],
   "source": [
    "import sys\n",
    "sys.path.append('/home/xhh/notebooks/GNN/pytorch-template')\n",
    "from src.datamodules.components.data import get_data\n",
    "import torch\n",
    "\n",
    "device = torch.device('cuda:1' if torch.cuda.is_available() else 'cpu')\n",
    "\n",
    "data, num_features, num_classes, processed_dir = get_data('pubmed', split='full')\n",
    "\n",
    "# data.to(device)\n",
    "\n",
    "edge_index = data.edge_index\n",
    "num_nodes = data.num_nodes\n",
    "\n",
    "data"
   ]
  },
  {
   "cell_type": "code",
   "execution_count": 13,
   "outputs": [
    {
     "data": {
      "text/plain": "device(type='cpu')"
     },
     "execution_count": 13,
     "metadata": {},
     "output_type": "execute_result"
    }
   ],
   "source": [
    "data.x.device"
   ],
   "metadata": {
    "collapsed": false,
    "pycharm": {
     "name": "#%%\n"
    }
   }
  },
  {
   "cell_type": "code",
   "execution_count": null,
   "outputs": [],
   "source": [
    "import copy\n",
    "\n",
    "data2 = copy.copy(data)\n",
    "data2.to(device)"
   ],
   "metadata": {
    "collapsed": false,
    "pycharm": {
     "name": "#%%\n"
    }
   }
  },
  {
   "cell_type": "code",
   "execution_count": 450,
   "outputs": [],
   "source": [
    "from torch_sparse import SparseTensor\n",
    "\n",
    "row, col = edge_index.cpu()\n",
    "adj_t = SparseTensor(\n",
    "    row=row, col=col, value=torch.arange(col.size(0)),\n",
    "    sparse_sizes=(data.num_nodes, data.num_nodes)).t()\n",
    "# adj_t.to(device)"
   ],
   "metadata": {
    "collapsed": false,
    "pycharm": {
     "name": "#%%\n"
    }
   }
  },
  {
   "cell_type": "code",
   "execution_count": 443,
   "outputs": [
    {
     "data": {
      "text/plain": "tensor([[    0,     0,     0,  ..., 19714, 19715, 19716],\n        [ 1378,  1544,  6092,  ..., 12278,  4284, 16030]], device='cuda:1')"
     },
     "execution_count": 443,
     "metadata": {},
     "output_type": "execute_result"
    }
   ],
   "source": [
    "data.edge_index.to('cpu')\n",
    "data.edge_index"
   ],
   "metadata": {
    "collapsed": false,
    "pycharm": {
     "name": "#%%\n"
    }
   }
  },
  {
   "cell_type": "code",
   "execution_count": 72,
   "outputs": [
    {
     "data": {
      "text/plain": "171"
     },
     "execution_count": 72,
     "metadata": {},
     "output_type": "execute_result"
    }
   ],
   "source": [
    "_, degree = torch.unique(row, return_counts=True)\n",
    "max_deg = degree.max().item()\n",
    "max_deg"
   ],
   "metadata": {
    "collapsed": false,
    "pycharm": {
     "name": "#%%\n"
    }
   }
  },
  {
   "cell_type": "code",
   "execution_count": 66,
   "outputs": [
    {
     "name": "stdout",
     "output_type": "stream",
     "text": [
      "CPU times: user 8h 18min 47s, sys: 35.4 s, total: 8h 19min 23s\n",
      "Wall time: 5min 15s\n"
     ]
    },
    {
     "data": {
      "text/plain": "tensor([[   249,    969,   1408,  ..., 232965, 232965, 232965],\n        [  1394,   1426,   8476,  ..., 232965, 232965, 232965],\n        [  3077,   4300,   4424,  ..., 232965, 232965, 232965],\n        ...,\n        [  3616,   4859,   6627,  ..., 232965, 232965, 232965],\n        [  1304,   2311,   4883,  ..., 232965, 232965, 232965],\n        [232965, 232965, 232965,  ..., 232965, 232965, 232965]])"
     },
     "execution_count": 66,
     "metadata": {},
     "output_type": "execute_result"
    }
   ],
   "source": [
    "%%time\n",
    "\n",
    "edge = torch.full((num_nodes+1, max_deg), num_nodes)\n",
    "\n",
    "for v in range(num_nodes):\n",
    "    neighbors = adj_t[v, :].coo()[1]  # 31s\n",
    "    # neighbors = edge_index[1, edge_index[0] == v]  # 315s\n",
    "\n",
    "    len_neighbors = neighbors.shape[0]\n",
    "    if len_neighbors == 0:\n",
    "        edge.data[v, 0] = v\n",
    "    else:\n",
    "        edge.data[v, :len_neighbors] = neighbors\n",
    "\n",
    "edge"
   ],
   "metadata": {
    "collapsed": false,
    "pycharm": {
     "name": "#%%\n"
    }
   }
  },
  {
   "cell_type": "code",
   "execution_count": 80,
   "outputs": [
    {
     "data": {
      "text/plain": "SparseTensor(row=tensor([0, 0, 0, 0, 0, 0, 0, 0, 0, 0, 0, 0, 1, 1, 1, 1, 1, 1, 1, 1, 1, 1, 1, 1,\n                           1, 1, 1, 1, 1, 1, 1, 2, 2, 2, 2, 3, 3, 3, 3, 3, 3, 3, 3, 3, 3, 3, 4, 4,\n                           4, 4, 4, 4, 4, 4, 4, 4, 4, 4, 4, 5, 5, 5, 5, 5, 5, 5, 5, 5, 5, 5, 5, 5,\n                           5, 5, 5, 5, 5, 5, 5, 5, 5, 5, 6, 6, 6, 6, 6, 6, 6, 6, 6, 6, 6, 6, 6, 6,\n                           6, 6, 6, 6, 6], device='cuda:1'),\n             col=tensor([    1,  2070,  2461,  4416,  5519,  5966,  6222,  9412,  9509, 13400,\n                           14746, 17366,     1,  1161,  1304,  2461,  4249,  6679,  8317, 10051,\n                           10140, 10487, 11197, 11631, 11880, 12230, 13705, 14055, 14877, 17366,\n                           18540,     1, 14055, 14746, 18681,     2,   569,  3227,  3537,  3634,\n                            4996,  5238,  5870,  6718,  9965, 14586,     2,  2218,  2519,  3978,\n                            5150,  6495,  6659, 12076, 12241, 13341, 14655, 14821, 18082,     2,\n                             139,  1084,  1620,  2238,  2432,  2778,  3320,  3526,  3866,  4329,\n                            6025,  9796, 10113, 11347, 11439, 11990, 13824, 13920, 14520, 18344,\n                           18436, 19053,     3,   353,   735,  1282,  4999,  5516,  5903,  6069,\n                            8175,  9529,  9942, 12524, 13360, 13682, 14341, 17370, 17855, 18065,\n                           18673], device='cuda:1'),\n             val=tensor([    5,  9561, 11608, 20428, 25466, 27307, 28396, 42741, 43154, 60841,\n                           66874, 78479,     6,  5191,  5940, 11611, 19671, 30336, 37758, 45472,\n                           45874, 47677, 50861, 53087, 54252, 55969, 62199, 63814, 67442, 78484,\n                           83241,     7, 63815, 66875, 83883,     8,  2514, 15073, 16382, 16831,\n                           23118, 24061, 26860, 30590, 45140, 66091,     9, 10461, 11827, 18357,\n                           23751, 29554, 30291, 55350, 56024, 60618, 66515, 67225, 81539,    10,\n                             672,  4918,  7515, 10558, 11504, 13034, 15557, 16318, 17913, 20028,\n                           27503, 44297, 45763, 51441, 51951, 54869, 62690, 63035, 65898, 82462,\n                           82857, 87377,    11,  1538,  3281,  5849, 23130, 25463, 27027, 27661,\n                           37180, 43253, 45048, 57285, 60670, 62135, 65028, 78495, 80578, 81445,\n                           83838], device='cuda:1'),\n             size=(7, 19717), nnz=101, density=0.07%)"
     },
     "execution_count": 80,
     "metadata": {},
     "output_type": "execute_result"
    }
   ],
   "source": [
    "adj_t = adj_t.to(device)\n",
    "v = torch.tensor([2943,  8359, 10199, 10471, 11485, 15572,  8249])\n",
    "# adj_t[v, :].coo()[1]\n",
    "row, col, layer_e = adj_t[v, :].coo()\n",
    "adj_t[v, :]"
   ],
   "metadata": {
    "collapsed": false,
    "pycharm": {
     "name": "#%%\n"
    }
   }
  },
  {
   "cell_type": "code",
   "execution_count": 129,
   "outputs": [],
   "source": [
    "col, col_inv = col.unique(return_inverse=True)"
   ],
   "metadata": {
    "collapsed": false,
    "pycharm": {
     "name": "#%%\n"
    }
   }
  },
  {
   "cell_type": "code",
   "execution_count": 173,
   "outputs": [
    {
     "name": "stdout",
     "output_type": "stream",
     "text": [
      "CPU times: user 333 ms, sys: 8 ms, total: 341 ms\n",
      "Wall time: 340 ms\n"
     ]
    }
   ],
   "source": [
    "%%time\n",
    "idxs, invs, ptrs, inc = [], [], [], []\n",
    "for bn in range(1000000):\n",
    "    idxs.append(1)\n",
    "    invs.append(1)\n",
    "    ptrs.append(1)\n",
    "    inc.append(1)"
   ],
   "metadata": {
    "collapsed": false,
    "pycharm": {
     "name": "#%%\n"
    }
   }
  },
  {
   "cell_type": "code",
   "execution_count": 180,
   "outputs": [
    {
     "name": "stdout",
     "output_type": "stream",
     "text": [
      "CPU times: user 65.5 ms, sys: 0 ns, total: 65.5 ms\n",
      "Wall time: 65.1 ms\n"
     ]
    }
   ],
   "source": [
    "%%time\n",
    "num = 20000\n",
    "idxs = [torch.tensor([])] * num\n",
    "# idxs = [None] * num\n",
    "# idxs = torch.empty(num)\n",
    "# idxs = torch.zeros(num).to(device)\n",
    "for bn in range(num):\n",
    "    idxs[bn] = 1\n",
    "\n",
    "\n",
    "# torch.tensor(idxs).to(device)"
   ],
   "metadata": {
    "collapsed": false,
    "pycharm": {
     "name": "#%%\n"
    }
   }
  },
  {
   "cell_type": "code",
   "execution_count": 441,
   "outputs": [
    {
     "name": "stdout",
     "output_type": "stream",
     "text": [
      "CPU times: user 881 ms, sys: 0 ns, total: 881 ms\n",
      "Wall time: 891 ms\n"
     ]
    }
   ],
   "source": [
    "%%time\n",
    "\n",
    "num = 100000\n",
    "for bn in range(num):\n",
    "    torch.ones(num, device=device)"
   ],
   "metadata": {
    "collapsed": false,
    "pycharm": {
     "name": "#%%\n"
    }
   }
  },
  {
   "cell_type": "code",
   "execution_count": null,
   "outputs": [],
   "source": [
    "from torch_sparse import matmul\n",
    "\n",
    "x_v = data.x[v].to(device)\n",
    "\n",
    "matmul(adj_t[v, :].t(), x_v)[col].shape"
   ],
   "metadata": {
    "collapsed": false,
    "pycharm": {
     "name": "#%%\n"
    }
   }
  },
  {
   "cell_type": "code",
   "execution_count": 213,
   "outputs": [
    {
     "data": {
      "text/plain": "torch.Size([93, 500])"
     },
     "execution_count": 213,
     "metadata": {},
     "output_type": "execute_result"
    }
   ],
   "source": [
    "from torch_scatter import scatter\n",
    "\n",
    "h_u = scatter(x_v[row], col_inv, dim=0, reduce='sum') + data.x[col].to(device)\n",
    "h_u.shape"
   ],
   "metadata": {
    "collapsed": false,
    "pycharm": {
     "name": "#%%\n"
    }
   }
  },
  {
   "cell_type": "markdown",
   "source": [
    "---"
   ],
   "metadata": {
    "collapsed": false
   }
  },
  {
   "cell_type": "code",
   "execution_count": 14,
   "outputs": [
    {
     "data": {
      "text/plain": "Data(x=[19717, 500], edge_index=[2, 88648], y=[19717], train_mask=[19717], val_mask=[19717], test_mask=[19717])"
     },
     "execution_count": 14,
     "metadata": {},
     "output_type": "execute_result"
    }
   ],
   "source": [
    "data"
   ],
   "metadata": {
    "collapsed": false,
    "pycharm": {
     "name": "#%%\n"
    }
   }
  },
  {
   "cell_type": "code",
   "execution_count": 16,
   "outputs": [
    {
     "data": {
      "text/plain": "tensor(500)"
     },
     "execution_count": 16,
     "metadata": {},
     "output_type": "execute_result"
    }
   ],
   "source": [
    "data.val_mask.sum()"
   ],
   "metadata": {
    "collapsed": false,
    "pycharm": {
     "name": "#%%\n"
    }
   }
  },
  {
   "cell_type": "code",
   "execution_count": 25,
   "outputs": [
    {
     "data": {
      "text/plain": "tensor([ 297,  322,  323,  377,  443,  498,  507,  553,  642,  687,  757,  772,\n         830,  869,  870,  885,  974, 1010, 1011, 1030, 1031, 1098, 1175, 1199,\n        1303, 1342, 1425, 1521, 1545, 1546, 1547, 1739, 1800, 1825, 1840, 1858,\n        1916, 1989, 1990, 2014, 2059, 2074, 2145, 2158, 2159, 2178, 2291, 2320,\n        2321, 2322, 2323, 2324, 2350, 2401])"
     },
     "execution_count": 25,
     "metadata": {},
     "output_type": "execute_result"
    }
   ],
   "source": [
    "from src.utils.index import mask_to_index\n",
    "from torch_geometric.utils import subgraph\n",
    "\n",
    "mask_to_index(subgraph(data.val_mask, data.edge_index, return_edge_mask=True)[2])"
   ],
   "metadata": {
    "collapsed": false,
    "pycharm": {
     "name": "#%%\n"
    }
   }
  },
  {
   "cell_type": "code",
   "execution_count": 26,
   "outputs": [
    {
     "data": {
      "text/plain": "(tensor([[  0,   1,   2,  17,  39,  46,  50,  56,  72,  84,  95, 101, 125, 136,\n          136, 140, 158, 176, 176, 181, 182, 198, 222, 224, 241, 251, 264, 288,\n          297, 297, 297, 324, 341, 347, 350, 351, 369, 383, 383, 385, 399, 402,\n          423, 428, 428, 429, 458, 468, 468, 468, 468, 468, 469, 473],\n         [ 84, 383, 402, 458, 297,  72, 176, 423,  46,   0, 469, 136, 297, 101,\n          264, 222, 251,  50, 468, 297, 468, 428, 140, 341, 369, 158, 136, 473,\n           39, 125, 181, 385, 224, 351, 468, 347, 241,   1, 399, 324, 383,   2,\n           56, 198, 468, 468,  17, 176, 182, 350, 428, 429,  95, 288]]),\n None)"
     },
     "execution_count": 26,
     "metadata": {},
     "output_type": "execute_result"
    }
   ],
   "source": [
    "subgraph(data.val_mask, data.edge_index, relabel_nodes=True)"
   ],
   "metadata": {
    "collapsed": false,
    "pycharm": {
     "name": "#%%\n"
    }
   }
  },
  {
   "cell_type": "code",
   "execution_count": 29,
   "outputs": [
    {
     "data": {
      "text/plain": "tensor([-0.0935,  0.9052, -0.6369,  ...,  0.3908,  0.7589,  0.5236])"
     },
     "execution_count": 29,
     "metadata": {},
     "output_type": "execute_result"
    }
   ],
   "source": [
    "torch.rand((data.val_mask.shape[0], )) * 2 -1"
   ],
   "metadata": {
    "collapsed": false,
    "pycharm": {
     "name": "#%%\n"
    }
   }
  }
 ],
 "metadata": {
  "kernelspec": {
   "name": "conda-env-pytorch-gpu-py",
   "language": "python",
   "display_name": "Python [conda env:pytorch-gpu]"
  },
  "language_info": {
   "codemirror_mode": {
    "name": "ipython",
    "version": 2
   },
   "file_extension": ".py",
   "mimetype": "text/x-python",
   "name": "python",
   "nbconvert_exporter": "python",
   "pygments_lexer": "ipython2",
   "version": "2.7.6"
  }
 },
 "nbformat": 4,
 "nbformat_minor": 0
}